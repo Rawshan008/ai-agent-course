{
 "cells": [
  {
   "cell_type": "code",
   "execution_count": null,
   "id": "87bb264d",
   "metadata": {},
   "outputs": [],
   "source": [
    "from typing import TypedDict\n",
    "from langgraph.graph import StateGraph, START, END\n",
    "\n",
    "class AgentState(TypedDict):\n",
    "  messages: str"
   ]
  },
  {
   "cell_type": "code",
   "execution_count": null,
   "id": "9fc5ebc0",
   "metadata": {},
   "outputs": [],
   "source": [
    "def greeting_node(state: AgentState):\n",
    "  state['messages'] = \"Hello \" + state['messages'] + \" How are you?\"\n",
    "\n",
    "  return state"
   ]
  },
  {
   "cell_type": "code",
   "execution_count": null,
   "id": "0643ac52",
   "metadata": {},
   "outputs": [],
   "source": [
    "graph = StateGraph(AgentState)\n",
    "\n",
    "graph.add_node('greeting_node', greeting_node)\n",
    "\n",
    "graph.add_edge(START, 'greeting_node')\n",
    "graph.add_edge('greeting_node', END)\n",
    "app = graph.compile()"
   ]
  },
  {
   "cell_type": "code",
   "execution_count": null,
   "id": "c9472cc3",
   "metadata": {},
   "outputs": [],
   "source": [
    "result = app.invoke({\"messages\": \"Rana\"})\n",
    "print(result)\n",
    "print(result['messages'])"
   ]
  },
  {
   "cell_type": "code",
   "execution_count": null,
   "id": "52e004ce",
   "metadata": {},
   "outputs": [],
   "source": []
  }
 ],
 "metadata": {
  "kernelspec": {
   "display_name": "venv",
   "language": "python",
   "name": "python3"
  },
  "language_info": {
   "codemirror_mode": {
    "name": "ipython",
    "version": 3
   },
   "file_extension": ".py",
   "mimetype": "text/x-python",
   "name": "python",
   "nbconvert_exporter": "python",
   "pygments_lexer": "ipython3",
   "version": "3.13.5"
  }
 },
 "nbformat": 4,
 "nbformat_minor": 5
}
