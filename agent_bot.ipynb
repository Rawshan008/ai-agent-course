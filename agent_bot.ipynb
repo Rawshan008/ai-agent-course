{
 "cells": [
  {
   "cell_type": "code",
   "execution_count": 81,
   "id": "e28bfb04",
   "metadata": {},
   "outputs": [
    {
     "data": {
      "text/plain": [
       "True"
      ]
     },
     "execution_count": 81,
     "metadata": {},
     "output_type": "execute_result"
    }
   ],
   "source": [
    "import os\n",
    "import getpass\n",
    "from langgraph.graph import StateGraph, START, END\n",
    "from typing import TypedDict, List\n",
    "from langchain_core.messages import HumanMessage\n",
    "from langchain.chat_models import init_chat_model\n",
    "from dotenv import load_dotenv\n",
    "load_dotenv()"
   ]
  },
  {
   "cell_type": "code",
   "execution_count": 82,
   "id": "1a71253c",
   "metadata": {},
   "outputs": [],
   "source": [
    "class AgentBotState(TypedDict):\n",
    "  messages: List[HumanMessage]"
   ]
  },
  {
   "cell_type": "code",
   "execution_count": 83,
   "id": "34628a4d",
   "metadata": {},
   "outputs": [],
   "source": [
    "if \"GOOGLE_API_KEY\" not in os.environ:\n",
    "    os.environ[\"GOOGLE_API_KEY\"] = getpass.getpass(\"Enter your Google AI API key: \")\n",
    "\n",
    "llm = init_chat_model(\"gemini-2.5-flash\", model_provider=\"google_genai\")"
   ]
  },
  {
   "cell_type": "code",
   "execution_count": 84,
   "id": "7f07773c",
   "metadata": {},
   "outputs": [],
   "source": [
    "def chatbot(state: AgentBotState):\n",
    "  messages = llm.invoke(state['messages'])\n",
    "  return {\"messages\":[messages]}"
   ]
  },
  {
   "cell_type": "code",
   "execution_count": 85,
   "id": "da2f3bc5",
   "metadata": {},
   "outputs": [],
   "source": [
    "graph = StateGraph(AgentBotState)\n",
    "\n",
    "graph.add_node('chatbot', chatbot)\n",
    "\n",
    "graph.add_edge(START, 'chatbot')\n",
    "graph.add_edge('chatbot', END)\n",
    "\n",
    "agent = graph.compile()"
   ]
  },
  {
   "cell_type": "code",
   "execution_count": null,
   "id": "8535d87e",
   "metadata": {},
   "outputs": [
    {
     "data": {
      "text/plain": [
       "{'messages': [AIMessage(content='Hi there! How can I help you today?', additional_kwargs={}, response_metadata={'prompt_feedback': {'block_reason': 0, 'safety_ratings': []}, 'finish_reason': 'STOP', 'model_name': 'gemini-2.5-flash', 'safety_ratings': []}, id='run--afadda8f-099b-47a3-bb2f-b1afd75c9fcf-0', usage_metadata={'input_tokens': 2, 'output_tokens': 45, 'total_tokens': 47, 'input_token_details': {'cache_read': 0}, 'output_token_details': {'reasoning': 35}})]}"
      ]
     },
     "execution_count": 87,
     "metadata": {},
     "output_type": "execute_result"
    }
   ],
   "source": [
    "user_input = input(\"Enter \")\n",
    "while True:\n",
    "  if user_input.lower() in [\"quite\", \"by\"]:\n",
    "    print(\"BYE\")\n",
    "    break\n",
    "  agent.invoke({\"messages\": [HumanMessage(content=user_input)]})\n"
   ]
  }
 ],
 "metadata": {
  "kernelspec": {
   "display_name": "Python 3",
   "language": "python",
   "name": "python3"
  },
  "language_info": {
   "codemirror_mode": {
    "name": "ipython",
    "version": 3
   },
   "file_extension": ".py",
   "mimetype": "text/x-python",
   "name": "python",
   "nbconvert_exporter": "python",
   "pygments_lexer": "ipython3",
   "version": "3.13.5"
  }
 },
 "nbformat": 4,
 "nbformat_minor": 5
}
