{
 "cells": [
  {
   "cell_type": "code",
   "execution_count": null,
   "id": "be1a6f98",
   "metadata": {},
   "outputs": [],
   "source": [
    "import os\n",
    "import getpass\n",
    "from typing import TypedDict, List\n",
    "from langchain_core.messages import HumanMessage\n",
    "from langchain.chat_models import init_chat_model\n",
    "from langgraph.graph import StateGraph, START, END"
   ]
  },
  {
   "cell_type": "code",
   "execution_count": null,
   "id": "45dabe14",
   "metadata": {},
   "outputs": [],
   "source": [
    "class chatbotState(TypedDict):\n",
    "  messages: List[HumanMessage]"
   ]
  },
  {
   "cell_type": "code",
   "execution_count": null,
   "id": "9b9152f3",
   "metadata": {},
   "outputs": [],
   "source": [
    "if \"GOOGLE_API_KEY\" not in os.environ:\n",
    "    os.environ[\"GOOGLE_API_KEY\"] = getpass.getpass(\"Enter your Google AI API key: \")\n",
    "llm = init_chat_model(\"google_genai:gemini-2.0-flash\", temperature=0.9)"
   ]
  },
  {
   "cell_type": "code",
   "execution_count": null,
   "id": "2e5a4cd4",
   "metadata": {},
   "outputs": [],
   "source": [
    "def chatbot(state: chatbotState):\n",
    "  messages = llm.invoke(state['messages'])\n",
    "  print(messages.content)\n",
    "  return state"
   ]
  },
  {
   "cell_type": "code",
   "execution_count": null,
   "id": "4efc3b1b",
   "metadata": {},
   "outputs": [],
   "source": [
    "graph = StateGraph(chatbotState)\n",
    "\n",
    "graph.add_node('chat_node', chatbot)\n",
    "\n",
    "graph.add_edge(START, 'chat_node')\n",
    "graph.add_edge('chat_node', END)\n",
    "agent = graph.compile()"
   ]
  },
  {
   "cell_type": "code",
   "execution_count": null,
   "id": "7a998ead",
   "metadata": {},
   "outputs": [],
   "source": [
    "while True:\n",
    "  user_input = input(\"Enter: \")\n",
    "  if user_input.lower() in [\"exit\", \"quit\", \"bye\"]:\n",
    "    print(\"BYE\")\n",
    "    break\n",
    "  agent.invoke({\"messages\": [HumanMessage(content=user_input)]})"
   ]
  }
 ],
 "metadata": {
  "kernelspec": {
   "display_name": "Python 3",
   "language": "python",
   "name": "python3"
  },
  "language_info": {
   "codemirror_mode": {
    "name": "ipython",
    "version": 3
   },
   "file_extension": ".py",
   "mimetype": "text/x-python",
   "name": "python",
   "nbconvert_exporter": "python",
   "pygments_lexer": "ipython3",
   "version": "3.13.5"
  }
 },
 "nbformat": 4,
 "nbformat_minor": 5
}
