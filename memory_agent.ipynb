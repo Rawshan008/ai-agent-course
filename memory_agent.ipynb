{
 "cells": [
  {
   "cell_type": "code",
   "execution_count": 38,
   "id": "c35ba5a0",
   "metadata": {},
   "outputs": [
    {
     "data": {
      "text/plain": [
       "True"
      ]
     },
     "execution_count": 38,
     "metadata": {},
     "output_type": "execute_result"
    }
   ],
   "source": [
    "import os\n",
    "import getpass\n",
    "from typing import TypedDict, List, Union\n",
    "from langchain_core.messages import HumanMessage, AIMessage\n",
    "from langchain.chat_models import init_chat_model\n",
    "from langgraph.graph import StateGraph, START, END\n",
    "from dotenv import load_dotenv\n",
    "load_dotenv()"
   ]
  },
  {
   "cell_type": "code",
   "execution_count": 39,
   "id": "e16441cf",
   "metadata": {},
   "outputs": [],
   "source": [
    "class AgentState(TypedDict):\n",
    "  messages: List[Union[HumanMessage, AIMessage]]"
   ]
  },
  {
   "cell_type": "code",
   "execution_count": 40,
   "id": "790c0593",
   "metadata": {},
   "outputs": [],
   "source": [
    "if \"GOOGLE_API_KEY\" not in os.environ:\n",
    "    os.environ[\"GOOGLE_API_KEY\"] = getpass.getpass(\"Enter your Google AI API key: \")\n",
    "\n",
    "llm = init_chat_model(\"google_genai:gemini-2.0-flash\", temperature=0.9)"
   ]
  },
  {
   "cell_type": "code",
   "execution_count": 41,
   "id": "ef27ebfb",
   "metadata": {},
   "outputs": [],
   "source": [
    "def process(state: AgentState):\n",
    "  response = llm.invoke(state['messages'])\n",
    "  state['messages'].append(AIMessage(content=response.content))\n",
    "  print(f\"\\nAI: {response.content}\")\n",
    "\n",
    "  return state"
   ]
  },
  {
   "cell_type": "code",
   "execution_count": 42,
   "id": "9fbd88b3",
   "metadata": {},
   "outputs": [],
   "source": [
    "graph = StateGraph(AgentState)\n",
    "graph.add_node(\"process\", process)\n",
    "graph.add_edge(START, \"process\")\n",
    "graph.add_edge(\"process\", END)\n",
    "\n",
    "agent = graph.compile()"
   ]
  },
  {
   "cell_type": "code",
   "execution_count": 43,
   "id": "48c39b67",
   "metadata": {},
   "outputs": [
    {
     "name": "stdout",
     "output_type": "stream",
     "text": [
      "\n",
      "AI: Hello! How can I help you today?\n",
      "\n",
      "AI: Nice to meet you, Rana! It's a pleasure to connect with you. Is there anything I can help you with today?\n",
      "\n",
      "AI: As a large language model, I don't experience feelings or emotions like humans do. So, I don't \"feel\" in the way you might. However, I am functioning well and ready to assist you with any questions or tasks you have. How can I help you, Rana?\n",
      "\n",
      "AI: I am a large language model, trained by Google. I am designed to be informative and comprehensive. I am trained on a massive amount of text data and am able to communicate and generate human-like text in response to a wide range of prompts and questions. For example, I can provide summaries of factual topics, create stories, and translate languages.\n",
      "\n",
      "AI: 2 + 8 = 10\n",
      "BYE\n"
     ]
    }
   ],
   "source": [
    "conversation_history = []\n",
    "\n",
    "while True:\n",
    "  user_input = input(\"Enter: \")\n",
    "  conversation_history.append(HumanMessage(content=user_input))\n",
    "  if user_input.lower() in [\"exit\", \"quit\", \"bye\"]:\n",
    "    print(\"BYE\")\n",
    "    break\n",
    "  result = agent.invoke({\"messages\": conversation_history})\n",
    "\n",
    "conversation_history = result[\"messages\"]"
   ]
  },
  {
   "cell_type": "code",
   "execution_count": null,
   "id": "9c45624f",
   "metadata": {},
   "outputs": [
    {
     "name": "stdout",
     "output_type": "stream",
     "text": [
      "Conversation Saved to loggong.txt\n"
     ]
    }
   ],
   "source": [
    "with open(\"logging.txt\", \"w\") as file:\n",
    "  file.write(\"Your Conversation Log:\\n\")\n",
    "  for message in conversation_history:\n",
    "    if isinstance(message, HumanMessage):\n",
    "      file.write(f\"You: {message.content}\\n\")\n",
    "    elif isinstance(message, AIMessage):\n",
    "      file.write(f\"AI: {message.content}\\n\\n\")\n",
    "  file.write(\"End Conversation =========\")\n",
    "print(\"Conversation Saved to loggong.txt\")"
   ]
  }
 ],
 "metadata": {
  "kernelspec": {
   "display_name": "venv",
   "language": "python",
   "name": "python3"
  },
  "language_info": {
   "codemirror_mode": {
    "name": "ipython",
    "version": 3
   },
   "file_extension": ".py",
   "mimetype": "text/x-python",
   "name": "python",
   "nbconvert_exporter": "python",
   "pygments_lexer": "ipython3",
   "version": "3.13.5"
  }
 },
 "nbformat": 4,
 "nbformat_minor": 5
}
