{
 "cells": [
  {
   "cell_type": "code",
   "execution_count": 1,
   "id": "8fd058b0",
   "metadata": {},
   "outputs": [
    {
     "ename": "ModuleNotFoundError",
     "evalue": "No module named 'langchain_chroma'",
     "output_type": "error",
     "traceback": [
      "\u001b[31m---------------------------------------------------------------------------\u001b[39m",
      "\u001b[31mModuleNotFoundError\u001b[39m                       Traceback (most recent call last)",
      "\u001b[36mCell\u001b[39m\u001b[36m \u001b[39m\u001b[32mIn[1]\u001b[39m\u001b[32m, line 12\u001b[39m\n\u001b[32m     10\u001b[39m \u001b[38;5;28;01mfrom\u001b[39;00m\u001b[38;5;250m \u001b[39m\u001b[34;01mlangchain_google_genai\u001b[39;00m\u001b[38;5;250m \u001b[39m\u001b[38;5;28;01mimport\u001b[39;00m GoogleGenerativeAIEmbeddings\n\u001b[32m     11\u001b[39m \u001b[38;5;28;01mfrom\u001b[39;00m\u001b[38;5;250m \u001b[39m\u001b[34;01mlangchain_community\u001b[39;00m\u001b[34;01m.\u001b[39;00m\u001b[34;01mdocstore\u001b[39;00m\u001b[34;01m.\u001b[39;00m\u001b[34;01min_memory\u001b[39;00m\u001b[38;5;250m \u001b[39m\u001b[38;5;28;01mimport\u001b[39;00m InMemoryDocstore\n\u001b[32m---> \u001b[39m\u001b[32m12\u001b[39m \u001b[38;5;28;01mfrom\u001b[39;00m\u001b[38;5;250m \u001b[39m\u001b[34;01mlangchain_chroma\u001b[39;00m\u001b[38;5;250m \u001b[39m\u001b[38;5;28;01mimport\u001b[39;00m Chroma\n\u001b[32m     13\u001b[39m \u001b[38;5;28;01mfrom\u001b[39;00m\u001b[38;5;250m \u001b[39m\u001b[34;01mlangchain_core\u001b[39;00m\u001b[34;01m.\u001b[39;00m\u001b[34;01mtools\u001b[39;00m\u001b[38;5;250m \u001b[39m\u001b[38;5;28;01mimport\u001b[39;00m BaseTool\n\u001b[32m     14\u001b[39m \u001b[38;5;28;01mfrom\u001b[39;00m\u001b[38;5;250m \u001b[39m\u001b[34;01mlanggraph\u001b[39;00m\u001b[34;01m.\u001b[39;00m\u001b[34;01mprebuilt\u001b[39;00m\u001b[38;5;250m \u001b[39m\u001b[38;5;28;01mimport\u001b[39;00m ToolNode, tools_condition\n",
      "\u001b[31mModuleNotFoundError\u001b[39m: No module named 'langchain_chroma'"
     ]
    }
   ],
   "source": [
    "import os\n",
    "import getpass\n",
    "from typing import Annotated, List\n",
    "from typing_extensions import TypedDict\n",
    "from langgraph.graph import StateGraph, START, END\n",
    "from langgraph.graph.message import add_messages\n",
    "from langchain.chat_models import init_chat_model\n",
    "from langchain_community.document_loaders import DirectoryLoader, PyPDFLoader\n",
    "from langchain_text_splitters import RecursiveCharacterTextSplitter\n",
    "from langchain_google_genai import GoogleGenerativeAIEmbeddings\n",
    "from langchain_community.docstore.in_memory import InMemoryDocstore\n",
    "from langchain_chroma import Chroma\n",
    "from langchain_core.tools import BaseTool\n",
    "from langgraph.prebuilt import ToolNode, tools_condition"
   ]
  },
  {
   "cell_type": "code",
   "execution_count": null,
   "id": "bb1468cd",
   "metadata": {},
   "outputs": [],
   "source": [
    "class MultiState(TypedDict):\n",
    "  messages: Annotated[list, add_messages]\n",
    "\n",
    "vectorstore = None\n",
    "\n",
    "if \"GOOGLE_API_KEY\" not in os.environ:\n",
    "    os.environ[\"GOOGLE_API_KEY\"] = getpass.getpass(\"Enter your Google AI API key: \")\n",
    "\n",
    "splitter = RecursiveCharacterTextSplitter(chunk_size=1000, chunk_overlap=200)\n",
    "embedding = GoogleGenerativeAIEmbeddings(model=\"models/embedding-001\")\n",
    "llm = init_chat_model(\"google_genai:gemini-2.0-flash\")"
   ]
  },
  {
   "cell_type": "code",
   "execution_count": null,
   "id": "f9231012",
   "metadata": {},
   "outputs": [],
   "source": [
    "def setup_pdfs( pdf_folder: str = \"pdfs\" ):\n",
    "  global vectorstore\n",
    "  loader = DirectoryLoader(pdf_folder, glob=\"**/*.pdfs\", loader_cls=PyPDFLoader)\n",
    "  docs = loader.load()\n",
    "  chunks = splitter.split_documents(docs)\n",
    "  vectorstore = FAISS.from_documents(chunks, embedding)"
   ]
  },
  {
   "cell_type": "code",
   "execution_count": null,
   "id": "4d30991c",
   "metadata": {},
   "outputs": [],
   "source": [
    "def search_pdfs_function(query: str) -> str:\n",
    "  docs = vectorstore.as_retriever().invoke(query)\n",
    "  return docs"
   ]
  },
  {
   "cell_type": "code",
   "execution_count": null,
   "id": "7fadae5e",
   "metadata": {},
   "outputs": [],
   "source": [
    "class PDFSearchTool(BaseTool):\n",
    "  name: str = \"searchPDFs\"\n",
    "  description: str = \"Search PDF for Document Information\"\n",
    "  def _run(self, query : str) -> str:\n",
    "    return search_pdfs_function(query)"
   ]
  },
  {
   "cell_type": "code",
   "execution_count": null,
   "id": "c9f2919d",
   "metadata": {},
   "outputs": [],
   "source": [
    "tool = PDFSearchTool()\n",
    "tools = [tool]\n",
    "llm_with_tools = llm.bind_tools(tools)"
   ]
  },
  {
   "cell_type": "code",
   "execution_count": null,
   "id": "0c24ef08",
   "metadata": {},
   "outputs": [],
   "source": [
    "def chatbot(state: MultiState):\n",
    "  return {\"messages\": [llm_with_tools.invoke(state[\"messages\"])]}"
   ]
  },
  {
   "cell_type": "code",
   "execution_count": null,
   "id": "0cfd0e2c",
   "metadata": {},
   "outputs": [],
   "source": [
    "graph_builder = StateGraph(MultiState)\n",
    "\n",
    "graph_builder.add_node(\"chatbot\", chatbot)\n",
    "\n",
    "tool_node = ToolNode(tools=tools)\n",
    "graph_builder.add_node(\"tools\", tool_node)\n",
    "graph_builder.add_conditional_edges(\n",
    "  'chatbot',\n",
    "  tools_condition\n",
    ")\n",
    "\n",
    "graph_builder.add_edge(\"tools\", \"chatbot\")\n",
    "graph_builder.add_edge(START, \"chatbot\")\n",
    "graph = graph_builder.compile()"
   ]
  },
  {
   "cell_type": "code",
   "execution_count": null,
   "id": "83e3992c",
   "metadata": {},
   "outputs": [],
   "source": [
    "def stream_graph_updates(user_input: str):\n",
    "  for event in graph.stream({\"messages\": [{\"role\": \"user\", \"content\": user_input}]}):\n",
    "    for value in event.values():\n",
    "      print(\"Assistant: \", value['messages'][-1].content)"
   ]
  },
  {
   "cell_type": "code",
   "execution_count": null,
   "id": "a924f6bf",
   "metadata": {},
   "outputs": [],
   "source": [
    "def show_all_pdf_content(docs):\n",
    "    \"\"\"Show all PDF content\"\"\"\n",
    "    print(\"\\n\" + \"=\"*50)\n",
    "    print(\"📚 ALL PDF CONTENT\")\n",
    "    print(\"=\"*50)\n",
    "    \n",
    "    for i, doc in enumerate(docs):\n",
    "        print(f\"\\n--- Document {i+1} ---\")\n",
    "        print(f\"Source: {doc.metadata.get('source', 'Unknown')}\")\n",
    "        print(f\"Page: {doc.metadata.get('page', 'Unknown')}\")\n",
    "        print(f\"Content:\\n{doc.page_content}\")\n",
    "        print(\"-\" * 30)\n",
    "print(\"🚀 Loading PDFs...\")\n",
    "docs, chunks = setup_pdfs()\n",
    "\n",
    "show_all_pdf_content(docs)"
   ]
  },
  {
   "cell_type": "code",
   "execution_count": null,
   "id": "5605f0b2",
   "metadata": {},
   "outputs": [],
   "source": [
    "while True:\n",
    "  user_input = input(\"User: \")\n",
    "  if user_input.lower() in [\"quit\", \"exit\", \"by\"]:\n",
    "    print(\"Good By\")\n",
    "    break\n",
    "  stream_graph_updates(user_input)"
   ]
  }
 ],
 "metadata": {
  "kernelspec": {
   "display_name": "venv",
   "language": "python",
   "name": "python3"
  },
  "language_info": {
   "codemirror_mode": {
    "name": "ipython",
    "version": 3
   },
   "file_extension": ".py",
   "mimetype": "text/x-python",
   "name": "python",
   "nbconvert_exporter": "python",
   "pygments_lexer": "ipython3",
   "version": "3.13.5"
  }
 },
 "nbformat": 4,
 "nbformat_minor": 5
}
